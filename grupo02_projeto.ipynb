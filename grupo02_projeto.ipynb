{
  "nbformat": 4,
  "nbformat_minor": 0,
  "metadata": {
    "colab": {
      "name": "grupo02_projeto.ipynb",
      "provenance": [],
      "toc_visible": true,
      "collapsed_sections": [],
      "authorship_tag": "ABX9TyNZXWUjBK/v5o4yObDoj9e2",
      "include_colab_link": true
    },
    "kernelspec": {
      "name": "python3",
      "display_name": "Python 3"
    },
    "language_info": {
      "name": "python"
    }
  },
  "cells": [
    {
      "cell_type": "markdown",
      "metadata": {
        "id": "view-in-github",
        "colab_type": "text"
      },
      "source": [
        "<a href=\"https://colab.research.google.com/github/JulianoMata/projeto_final_mod04/blob/main/grupo02_projeto.ipynb\" target=\"_parent\"><img src=\"https://colab.research.google.com/assets/colab-badge.svg\" alt=\"Open In Colab\"/></a>"
      ]
    },
    {
      "cell_type": "code",
      "source": [
        "import pandas as pd\n",
        "import numpy as np "
      ],
      "metadata": {
        "id": "EVnWsaAHgK3d"
      },
      "execution_count": null,
      "outputs": []
    },
    {
      "cell_type": "code",
      "execution_count": null,
      "metadata": {
        "colab": {
          "base_uri": "https://localhost:8080/",
          "height": 565
        },
        "id": "T5gZYPk1fwm0",
        "outputId": "f13a0ba0-c8b9-42f0-ec16-23c4e4da70bd"
      },
      "outputs": [
        {
          "output_type": "execute_result",
          "data": {
            "text/html": [
              "\n",
              "  <div id=\"df-98eb502b-f74f-4830-b584-10b6a42b321a\">\n",
              "    <div class=\"colab-df-container\">\n",
              "      <div>\n",
              "<style scoped>\n",
              "    .dataframe tbody tr th:only-of-type {\n",
              "        vertical-align: middle;\n",
              "    }\n",
              "\n",
              "    .dataframe tbody tr th {\n",
              "        vertical-align: top;\n",
              "    }\n",
              "\n",
              "    .dataframe thead th {\n",
              "        text-align: right;\n",
              "    }\n",
              "</style>\n",
              "<table border=\"1\" class=\"dataframe\">\n",
              "  <thead>\n",
              "    <tr style=\"text-align: right;\">\n",
              "      <th></th>\n",
              "      <th>Região - Sigla</th>\n",
              "      <th>Estado - Sigla</th>\n",
              "      <th>Município</th>\n",
              "      <th>Revenda</th>\n",
              "      <th>CNPJ da Revenda</th>\n",
              "      <th>Nome da Rua</th>\n",
              "      <th>Número Rua</th>\n",
              "      <th>Complemento</th>\n",
              "      <th>Bairro</th>\n",
              "      <th>Cep</th>\n",
              "      <th>Produto</th>\n",
              "      <th>Data da Coleta</th>\n",
              "      <th>Valor de Venda</th>\n",
              "      <th>Valor de Compra</th>\n",
              "      <th>Unidade de Medida</th>\n",
              "      <th>Bandeira</th>\n",
              "    </tr>\n",
              "  </thead>\n",
              "  <tbody>\n",
              "    <tr>\n",
              "      <th>0</th>\n",
              "      <td>N</td>\n",
              "      <td>AC</td>\n",
              "      <td>CRUZEIRO DO SUL</td>\n",
              "      <td>CARDINAL E OLIVEIRA LTDA</td>\n",
              "      <td>03.608.766/0005-75</td>\n",
              "      <td>AVENIDA BOULEVARD THAUMATURGO</td>\n",
              "      <td>1031</td>\n",
              "      <td>NaN</td>\n",
              "      <td>CENTRO</td>\n",
              "      <td>69980-000</td>\n",
              "      <td>GASOLINA</td>\n",
              "      <td>02/06/2021</td>\n",
              "      <td>6,89</td>\n",
              "      <td>NaN</td>\n",
              "      <td>R$ / litro</td>\n",
              "      <td>PETROBRAS DISTRIBUIDORA S.A.</td>\n",
              "    </tr>\n",
              "    <tr>\n",
              "      <th>1</th>\n",
              "      <td>N</td>\n",
              "      <td>AC</td>\n",
              "      <td>CRUZEIRO DO SUL</td>\n",
              "      <td>CARDINAL E OLIVEIRA LTDA</td>\n",
              "      <td>03.608.766/0005-75</td>\n",
              "      <td>AVENIDA BOULEVARD THAUMATURGO</td>\n",
              "      <td>1031</td>\n",
              "      <td>NaN</td>\n",
              "      <td>CENTRO</td>\n",
              "      <td>69980-000</td>\n",
              "      <td>GASOLINA ADITIVADA</td>\n",
              "      <td>02/06/2021</td>\n",
              "      <td>6,89</td>\n",
              "      <td>NaN</td>\n",
              "      <td>R$ / litro</td>\n",
              "      <td>PETROBRAS DISTRIBUIDORA S.A.</td>\n",
              "    </tr>\n",
              "    <tr>\n",
              "      <th>2</th>\n",
              "      <td>N</td>\n",
              "      <td>AC</td>\n",
              "      <td>CRUZEIRO DO SUL</td>\n",
              "      <td>CARDINAL E OLIVEIRA LTDA</td>\n",
              "      <td>03.608.766/0006-56</td>\n",
              "      <td>AVENIDA 25 DE AGOSTO</td>\n",
              "      <td>1350</td>\n",
              "      <td>NaN</td>\n",
              "      <td>25 DE AGOSTO</td>\n",
              "      <td>69980-000</td>\n",
              "      <td>ETANOL</td>\n",
              "      <td>01/06/2021</td>\n",
              "      <td>6,1</td>\n",
              "      <td>NaN</td>\n",
              "      <td>R$ / litro</td>\n",
              "      <td>PETROBRAS DISTRIBUIDORA S.A.</td>\n",
              "    </tr>\n",
              "    <tr>\n",
              "      <th>3</th>\n",
              "      <td>N</td>\n",
              "      <td>AC</td>\n",
              "      <td>CRUZEIRO DO SUL</td>\n",
              "      <td>CARDINAL E OLIVEIRA LTDA</td>\n",
              "      <td>03.608.766/0006-56</td>\n",
              "      <td>AVENIDA 25 DE AGOSTO</td>\n",
              "      <td>1350</td>\n",
              "      <td>NaN</td>\n",
              "      <td>25 DE AGOSTO</td>\n",
              "      <td>69980-000</td>\n",
              "      <td>GASOLINA</td>\n",
              "      <td>01/06/2021</td>\n",
              "      <td>6,89</td>\n",
              "      <td>NaN</td>\n",
              "      <td>R$ / litro</td>\n",
              "      <td>PETROBRAS DISTRIBUIDORA S.A.</td>\n",
              "    </tr>\n",
              "    <tr>\n",
              "      <th>4</th>\n",
              "      <td>N</td>\n",
              "      <td>AC</td>\n",
              "      <td>CRUZEIRO DO SUL</td>\n",
              "      <td>CARDINAL E OLIVEIRA LTDA</td>\n",
              "      <td>03.608.766/0004-94</td>\n",
              "      <td>AVENIDA LAURO MULLER</td>\n",
              "      <td>943</td>\n",
              "      <td>NaN</td>\n",
              "      <td>JOÃO ALVES</td>\n",
              "      <td>69980-000</td>\n",
              "      <td>GASOLINA</td>\n",
              "      <td>02/06/2021</td>\n",
              "      <td>6,89</td>\n",
              "      <td>NaN</td>\n",
              "      <td>R$ / litro</td>\n",
              "      <td>BRANCA</td>\n",
              "    </tr>\n",
              "  </tbody>\n",
              "</table>\n",
              "</div>\n",
              "      <button class=\"colab-df-convert\" onclick=\"convertToInteractive('df-98eb502b-f74f-4830-b584-10b6a42b321a')\"\n",
              "              title=\"Convert this dataframe to an interactive table.\"\n",
              "              style=\"display:none;\">\n",
              "        \n",
              "  <svg xmlns=\"http://www.w3.org/2000/svg\" height=\"24px\"viewBox=\"0 0 24 24\"\n",
              "       width=\"24px\">\n",
              "    <path d=\"M0 0h24v24H0V0z\" fill=\"none\"/>\n",
              "    <path d=\"M18.56 5.44l.94 2.06.94-2.06 2.06-.94-2.06-.94-.94-2.06-.94 2.06-2.06.94zm-11 1L8.5 8.5l.94-2.06 2.06-.94-2.06-.94L8.5 2.5l-.94 2.06-2.06.94zm10 10l.94 2.06.94-2.06 2.06-.94-2.06-.94-.94-2.06-.94 2.06-2.06.94z\"/><path d=\"M17.41 7.96l-1.37-1.37c-.4-.4-.92-.59-1.43-.59-.52 0-1.04.2-1.43.59L10.3 9.45l-7.72 7.72c-.78.78-.78 2.05 0 2.83L4 21.41c.39.39.9.59 1.41.59.51 0 1.02-.2 1.41-.59l7.78-7.78 2.81-2.81c.8-.78.8-2.07 0-2.86zM5.41 20L4 18.59l7.72-7.72 1.47 1.35L5.41 20z\"/>\n",
              "  </svg>\n",
              "      </button>\n",
              "      \n",
              "  <style>\n",
              "    .colab-df-container {\n",
              "      display:flex;\n",
              "      flex-wrap:wrap;\n",
              "      gap: 12px;\n",
              "    }\n",
              "\n",
              "    .colab-df-convert {\n",
              "      background-color: #E8F0FE;\n",
              "      border: none;\n",
              "      border-radius: 50%;\n",
              "      cursor: pointer;\n",
              "      display: none;\n",
              "      fill: #1967D2;\n",
              "      height: 32px;\n",
              "      padding: 0 0 0 0;\n",
              "      width: 32px;\n",
              "    }\n",
              "\n",
              "    .colab-df-convert:hover {\n",
              "      background-color: #E2EBFA;\n",
              "      box-shadow: 0px 1px 2px rgba(60, 64, 67, 0.3), 0px 1px 3px 1px rgba(60, 64, 67, 0.15);\n",
              "      fill: #174EA6;\n",
              "    }\n",
              "\n",
              "    [theme=dark] .colab-df-convert {\n",
              "      background-color: #3B4455;\n",
              "      fill: #D2E3FC;\n",
              "    }\n",
              "\n",
              "    [theme=dark] .colab-df-convert:hover {\n",
              "      background-color: #434B5C;\n",
              "      box-shadow: 0px 1px 3px 1px rgba(0, 0, 0, 0.15);\n",
              "      filter: drop-shadow(0px 1px 2px rgba(0, 0, 0, 0.3));\n",
              "      fill: #FFFFFF;\n",
              "    }\n",
              "  </style>\n",
              "\n",
              "      <script>\n",
              "        const buttonEl =\n",
              "          document.querySelector('#df-98eb502b-f74f-4830-b584-10b6a42b321a button.colab-df-convert');\n",
              "        buttonEl.style.display =\n",
              "          google.colab.kernel.accessAllowed ? 'block' : 'none';\n",
              "\n",
              "        async function convertToInteractive(key) {\n",
              "          const element = document.querySelector('#df-98eb502b-f74f-4830-b584-10b6a42b321a');\n",
              "          const dataTable =\n",
              "            await google.colab.kernel.invokeFunction('convertToInteractive',\n",
              "                                                     [key], {});\n",
              "          if (!dataTable) return;\n",
              "\n",
              "          const docLinkHtml = 'Like what you see? Visit the ' +\n",
              "            '<a target=\"_blank\" href=https://colab.research.google.com/notebooks/data_table.ipynb>data table notebook</a>'\n",
              "            + ' to learn more about interactive tables.';\n",
              "          element.innerHTML = '';\n",
              "          dataTable['output_type'] = 'display_data';\n",
              "          await google.colab.output.renderOutput(dataTable, element);\n",
              "          const docLink = document.createElement('div');\n",
              "          docLink.innerHTML = docLinkHtml;\n",
              "          element.appendChild(docLink);\n",
              "        }\n",
              "      </script>\n",
              "    </div>\n",
              "  </div>\n",
              "  "
            ],
            "text/plain": [
              "  Região - Sigla Estado - Sigla  ... Unidade de Medida                      Bandeira\n",
              "0              N             AC  ...        R$ / litro  PETROBRAS DISTRIBUIDORA S.A.\n",
              "1              N             AC  ...        R$ / litro  PETROBRAS DISTRIBUIDORA S.A.\n",
              "2              N             AC  ...        R$ / litro  PETROBRAS DISTRIBUIDORA S.A.\n",
              "3              N             AC  ...        R$ / litro  PETROBRAS DISTRIBUIDORA S.A.\n",
              "4              N             AC  ...        R$ / litro                        BRANCA\n",
              "\n",
              "[5 rows x 16 columns]"
            ]
          },
          "metadata": {},
          "execution_count": 20
        }
      ],
      "source": [
        "df = pd.read_csv(\"https://www.gov.br/anp/pt-br/centrais-de-conteudo/dados-abertos/arquivos/shpc/dsan/2021/2021-06-gasolina-etanol.csv\", delimiter = \";\")\n",
        "df.head()"
      ]
    },
    {
      "cell_type": "code",
      "source": [
        "df.shape"
      ],
      "metadata": {
        "colab": {
          "base_uri": "https://localhost:8080/"
        },
        "id": "ymRCz2G4lm6n",
        "outputId": "787859a9-ea8f-44da-d639-905875a563e1"
      },
      "execution_count": null,
      "outputs": [
        {
          "output_type": "execute_result",
          "data": {
            "text/plain": [
              "(49737, 16)"
            ]
          },
          "metadata": {},
          "execution_count": 21
        }
      ]
    },
    {
      "cell_type": "code",
      "source": [
        "df2 = pd.read_csv(\"https://www.gov.br/anp/pt-br/centrais-de-conteudo/dados-abertos/arquivos/shpc/dsan/2021/2021-07-gasolina-etanol.csv\", delimiter = \";\")\n",
        "df2.head()"
      ],
      "metadata": {
        "colab": {
          "base_uri": "https://localhost:8080/",
          "height": 635
        },
        "id": "jFsewMn_hFzh",
        "outputId": "aea6ad9f-aa1b-493c-ba50-49e49fa8afb4"
      },
      "execution_count": null,
      "outputs": [
        {
          "output_type": "execute_result",
          "data": {
            "text/html": [
              "\n",
              "  <div id=\"df-be339b83-0ee3-4e1a-b846-42a0808d2689\">\n",
              "    <div class=\"colab-df-container\">\n",
              "      <div>\n",
              "<style scoped>\n",
              "    .dataframe tbody tr th:only-of-type {\n",
              "        vertical-align: middle;\n",
              "    }\n",
              "\n",
              "    .dataframe tbody tr th {\n",
              "        vertical-align: top;\n",
              "    }\n",
              "\n",
              "    .dataframe thead th {\n",
              "        text-align: right;\n",
              "    }\n",
              "</style>\n",
              "<table border=\"1\" class=\"dataframe\">\n",
              "  <thead>\n",
              "    <tr style=\"text-align: right;\">\n",
              "      <th></th>\n",
              "      <th>Região - Sigla</th>\n",
              "      <th>Estado - Sigla</th>\n",
              "      <th>Município</th>\n",
              "      <th>Revenda</th>\n",
              "      <th>CNPJ da Revenda</th>\n",
              "      <th>Nome da Rua</th>\n",
              "      <th>Número Rua</th>\n",
              "      <th>Complemento</th>\n",
              "      <th>Bairro</th>\n",
              "      <th>Cep</th>\n",
              "      <th>Produto</th>\n",
              "      <th>Data da Coleta</th>\n",
              "      <th>Valor de Venda</th>\n",
              "      <th>Valor de Compra</th>\n",
              "      <th>Unidade de Medida</th>\n",
              "      <th>Bandeira</th>\n",
              "    </tr>\n",
              "  </thead>\n",
              "  <tbody>\n",
              "    <tr>\n",
              "      <th>0</th>\n",
              "      <td>NE</td>\n",
              "      <td>CE</td>\n",
              "      <td>MARACANAU</td>\n",
              "      <td>BEZERRA &amp; MENDES COMERCIAL DE PETRÓLEO LTDA.</td>\n",
              "      <td>05.397.086/0001-51</td>\n",
              "      <td>RODOVIA MARANGUAPE - FORTALEZA - KM 06</td>\n",
              "      <td>S/N</td>\n",
              "      <td>NaN</td>\n",
              "      <td>PARQUE LUZARDO VIANA</td>\n",
              "      <td>61910-000</td>\n",
              "      <td>GASOLINA</td>\n",
              "      <td>01/07/2021</td>\n",
              "      <td>5,499</td>\n",
              "      <td>NaN</td>\n",
              "      <td>R$ / litro</td>\n",
              "      <td>IPIRANGA</td>\n",
              "    </tr>\n",
              "    <tr>\n",
              "      <th>1</th>\n",
              "      <td>NE</td>\n",
              "      <td>CE</td>\n",
              "      <td>MARACANAU</td>\n",
              "      <td>BEZERRA &amp; MENDES COMERCIAL DE PETRÓLEO LTDA.</td>\n",
              "      <td>05.397.086/0001-51</td>\n",
              "      <td>RODOVIA MARANGUAPE - FORTALEZA - KM 06</td>\n",
              "      <td>S/N</td>\n",
              "      <td>NaN</td>\n",
              "      <td>PARQUE LUZARDO VIANA</td>\n",
              "      <td>61910-000</td>\n",
              "      <td>ETANOL</td>\n",
              "      <td>01/07/2021</td>\n",
              "      <td>5,2</td>\n",
              "      <td>NaN</td>\n",
              "      <td>R$ / litro</td>\n",
              "      <td>IPIRANGA</td>\n",
              "    </tr>\n",
              "    <tr>\n",
              "      <th>2</th>\n",
              "      <td>NE</td>\n",
              "      <td>CE</td>\n",
              "      <td>MARACANAU</td>\n",
              "      <td>BEZERRA &amp; MENDES COMERCIAL DE PETRÓLEO LTDA.</td>\n",
              "      <td>05.397.086/0001-51</td>\n",
              "      <td>RODOVIA MARANGUAPE - FORTALEZA - KM 06</td>\n",
              "      <td>S/N</td>\n",
              "      <td>NaN</td>\n",
              "      <td>PARQUE LUZARDO VIANA</td>\n",
              "      <td>61910-000</td>\n",
              "      <td>GASOLINA ADITIVADA</td>\n",
              "      <td>01/07/2021</td>\n",
              "      <td>5,699</td>\n",
              "      <td>NaN</td>\n",
              "      <td>R$ / litro</td>\n",
              "      <td>IPIRANGA</td>\n",
              "    </tr>\n",
              "    <tr>\n",
              "      <th>3</th>\n",
              "      <td>NE</td>\n",
              "      <td>CE</td>\n",
              "      <td>MARACANAU</td>\n",
              "      <td>LUIZA GLAURIA R T MENEZES</td>\n",
              "      <td>03.602.329/0001-10</td>\n",
              "      <td>ESTRADA FORTALEZA MARANGUAPE</td>\n",
              "      <td>S/N</td>\n",
              "      <td>NaN</td>\n",
              "      <td>KAGADO</td>\n",
              "      <td>61901-410</td>\n",
              "      <td>GASOLINA</td>\n",
              "      <td>01/07/2021</td>\n",
              "      <td>5,49</td>\n",
              "      <td>NaN</td>\n",
              "      <td>R$ / litro</td>\n",
              "      <td>PETROBRAS DISTRIBUIDORA S.A.</td>\n",
              "    </tr>\n",
              "    <tr>\n",
              "      <th>4</th>\n",
              "      <td>NE</td>\n",
              "      <td>CE</td>\n",
              "      <td>MARACANAU</td>\n",
              "      <td>LUIZA GLAURIA R T MENEZES</td>\n",
              "      <td>03.602.329/0001-10</td>\n",
              "      <td>ESTRADA FORTALEZA MARANGUAPE</td>\n",
              "      <td>S/N</td>\n",
              "      <td>NaN</td>\n",
              "      <td>KAGADO</td>\n",
              "      <td>61901-410</td>\n",
              "      <td>ETANOL</td>\n",
              "      <td>01/07/2021</td>\n",
              "      <td>4,99</td>\n",
              "      <td>NaN</td>\n",
              "      <td>R$ / litro</td>\n",
              "      <td>PETROBRAS DISTRIBUIDORA S.A.</td>\n",
              "    </tr>\n",
              "  </tbody>\n",
              "</table>\n",
              "</div>\n",
              "      <button class=\"colab-df-convert\" onclick=\"convertToInteractive('df-be339b83-0ee3-4e1a-b846-42a0808d2689')\"\n",
              "              title=\"Convert this dataframe to an interactive table.\"\n",
              "              style=\"display:none;\">\n",
              "        \n",
              "  <svg xmlns=\"http://www.w3.org/2000/svg\" height=\"24px\"viewBox=\"0 0 24 24\"\n",
              "       width=\"24px\">\n",
              "    <path d=\"M0 0h24v24H0V0z\" fill=\"none\"/>\n",
              "    <path d=\"M18.56 5.44l.94 2.06.94-2.06 2.06-.94-2.06-.94-.94-2.06-.94 2.06-2.06.94zm-11 1L8.5 8.5l.94-2.06 2.06-.94-2.06-.94L8.5 2.5l-.94 2.06-2.06.94zm10 10l.94 2.06.94-2.06 2.06-.94-2.06-.94-.94-2.06-.94 2.06-2.06.94z\"/><path d=\"M17.41 7.96l-1.37-1.37c-.4-.4-.92-.59-1.43-.59-.52 0-1.04.2-1.43.59L10.3 9.45l-7.72 7.72c-.78.78-.78 2.05 0 2.83L4 21.41c.39.39.9.59 1.41.59.51 0 1.02-.2 1.41-.59l7.78-7.78 2.81-2.81c.8-.78.8-2.07 0-2.86zM5.41 20L4 18.59l7.72-7.72 1.47 1.35L5.41 20z\"/>\n",
              "  </svg>\n",
              "      </button>\n",
              "      \n",
              "  <style>\n",
              "    .colab-df-container {\n",
              "      display:flex;\n",
              "      flex-wrap:wrap;\n",
              "      gap: 12px;\n",
              "    }\n",
              "\n",
              "    .colab-df-convert {\n",
              "      background-color: #E8F0FE;\n",
              "      border: none;\n",
              "      border-radius: 50%;\n",
              "      cursor: pointer;\n",
              "      display: none;\n",
              "      fill: #1967D2;\n",
              "      height: 32px;\n",
              "      padding: 0 0 0 0;\n",
              "      width: 32px;\n",
              "    }\n",
              "\n",
              "    .colab-df-convert:hover {\n",
              "      background-color: #E2EBFA;\n",
              "      box-shadow: 0px 1px 2px rgba(60, 64, 67, 0.3), 0px 1px 3px 1px rgba(60, 64, 67, 0.15);\n",
              "      fill: #174EA6;\n",
              "    }\n",
              "\n",
              "    [theme=dark] .colab-df-convert {\n",
              "      background-color: #3B4455;\n",
              "      fill: #D2E3FC;\n",
              "    }\n",
              "\n",
              "    [theme=dark] .colab-df-convert:hover {\n",
              "      background-color: #434B5C;\n",
              "      box-shadow: 0px 1px 3px 1px rgba(0, 0, 0, 0.15);\n",
              "      filter: drop-shadow(0px 1px 2px rgba(0, 0, 0, 0.3));\n",
              "      fill: #FFFFFF;\n",
              "    }\n",
              "  </style>\n",
              "\n",
              "      <script>\n",
              "        const buttonEl =\n",
              "          document.querySelector('#df-be339b83-0ee3-4e1a-b846-42a0808d2689 button.colab-df-convert');\n",
              "        buttonEl.style.display =\n",
              "          google.colab.kernel.accessAllowed ? 'block' : 'none';\n",
              "\n",
              "        async function convertToInteractive(key) {\n",
              "          const element = document.querySelector('#df-be339b83-0ee3-4e1a-b846-42a0808d2689');\n",
              "          const dataTable =\n",
              "            await google.colab.kernel.invokeFunction('convertToInteractive',\n",
              "                                                     [key], {});\n",
              "          if (!dataTable) return;\n",
              "\n",
              "          const docLinkHtml = 'Like what you see? Visit the ' +\n",
              "            '<a target=\"_blank\" href=https://colab.research.google.com/notebooks/data_table.ipynb>data table notebook</a>'\n",
              "            + ' to learn more about interactive tables.';\n",
              "          element.innerHTML = '';\n",
              "          dataTable['output_type'] = 'display_data';\n",
              "          await google.colab.output.renderOutput(dataTable, element);\n",
              "          const docLink = document.createElement('div');\n",
              "          docLink.innerHTML = docLinkHtml;\n",
              "          element.appendChild(docLink);\n",
              "        }\n",
              "      </script>\n",
              "    </div>\n",
              "  </div>\n",
              "  "
            ],
            "text/plain": [
              "  Região - Sigla Estado - Sigla  ... Unidade de Medida                      Bandeira\n",
              "0             NE             CE  ...        R$ / litro                      IPIRANGA\n",
              "1             NE             CE  ...        R$ / litro                      IPIRANGA\n",
              "2             NE             CE  ...        R$ / litro                      IPIRANGA\n",
              "3             NE             CE  ...        R$ / litro  PETROBRAS DISTRIBUIDORA S.A.\n",
              "4             NE             CE  ...        R$ / litro  PETROBRAS DISTRIBUIDORA S.A.\n",
              "\n",
              "[5 rows x 16 columns]"
            ]
          },
          "metadata": {},
          "execution_count": 25
        }
      ]
    },
    {
      "cell_type": "code",
      "source": [
        "df2.shape"
      ],
      "metadata": {
        "colab": {
          "base_uri": "https://localhost:8080/"
        },
        "id": "mawoZumUlthq",
        "outputId": "c2eb72dc-46be-4a7d-bf84-5b14f40f5a6c"
      },
      "execution_count": null,
      "outputs": [
        {
          "output_type": "execute_result",
          "data": {
            "text/plain": [
              "(47849, 16)"
            ]
          },
          "metadata": {},
          "execution_count": 26
        }
      ]
    },
    {
      "cell_type": "markdown",
      "source": [
        " ***1) Como se comportaram o preço dos combustíveis durante os dois meses\n",
        "citados? Os valores do etanol e da gasolina tiveram uma tendência de\n",
        "queda ou diminuição?***"
      ],
      "metadata": {
        "id": "z9Mnvfmsmh2k"
      }
    },
    {
      "cell_type": "markdown",
      "source": [
        "***2) Qual o preço médio da gasolina e do etanol nesses dois meses?***"
      ],
      "metadata": {
        "id": "uMoZzgDbmrOQ"
      }
    },
    {
      "cell_type": "markdown",
      "source": [
        "***3) Quais os 5 estados com o preço médio da gasolina e do etanol mais\n",
        "caros?***"
      ],
      "metadata": {
        "id": "Wwlf708UmvpE"
      }
    },
    {
      "cell_type": "markdown",
      "source": [
        "***4) Qual o preço médio da gasolina e do etanol por estado?***"
      ],
      "metadata": {
        "id": "4xE4XVFIm3Hr"
      }
    },
    {
      "cell_type": "markdown",
      "source": [
        "***5) Qual o município que possui o menor preço para a gasolina e para o\n",
        "etanol?***"
      ],
      "metadata": {
        "id": "Z5z3x22jm5ou"
      }
    },
    {
      "cell_type": "markdown",
      "source": [
        "***6) Qual o município que possui o maior preço para a gasolina e para o\n",
        "etanol?***"
      ],
      "metadata": {
        "id": "NacnDGYynDjW"
      }
    },
    {
      "cell_type": "markdown",
      "source": [
        "***7) Qual a região que possui o maior valor médio da gasolina?***"
      ],
      "metadata": {
        "id": "9k5TUHn4nIC3"
      }
    },
    {
      "cell_type": "markdown",
      "source": [
        "***8) Qual a região que possui o menor valor médio do etanol?***"
      ],
      "metadata": {
        "id": "BxcprEOnnREZ"
      }
    },
    {
      "cell_type": "markdown",
      "source": [
        "***9) Há alguma correlação entre o valor do combustível (gasolina e etanol) e a\n",
        "região onde ele é vendido?***"
      ],
      "metadata": {
        "id": "W067VlPYnVKF"
      }
    },
    {
      "cell_type": "markdown",
      "source": [
        "***10) Há alguma correlação entre o valor do combustível (gasolina e etanol) e a\n",
        "bandeira que vende ele?***"
      ],
      "metadata": {
        "id": "bLFlJeGynZFz"
      }
    },
    {
      "cell_type": "markdown",
      "source": [
        "***\n",
        "O projeto deverá obrigatoriamente:\n",
        "* Utilizar Jupyter Notebook ou Colab;\n",
        "* Realizar a limpeza dos dados;\n",
        "* Realizar análise exploratória;\n",
        "* O notebook utilizado na análise deve estar organizado, com descrições do\n",
        "passo a passo da análise em markdown, apresentação dos resultados e insights\n",
        "gerados;\n",
        "* Levantar mais duas perguntas e respondê-las da forma que achar mais\n",
        "adequada.\n",
        "***"
      ],
      "metadata": {
        "id": "RMc3kCqbnfAA"
      }
    }
  ]
}